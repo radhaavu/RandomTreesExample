{
 "cells": [
  {
   "cell_type": "code",
   "execution_count": 1,
   "metadata": {},
   "outputs": [],
   "source": [
    "# Pandas and numpy for data manipulation\n",
    "import pandas as pd\n",
    "import numpy as np\n",
    "\n",
    "\n",
    "# sklearn Packages\n",
    "import sklearn\n",
    "from sklearn.model_selection import train_test_split\n",
    "from sklearn import metrics\n",
    "from sklearn.metrics import accuracy_score\n",
    "from sklearn.ensemble import RandomForestClassifier\n",
    "from sklearn.ensemble import RandomForestRegressor"
   ]
  },
  {
   "cell_type": "code",
   "execution_count": 2,
   "metadata": {},
   "outputs": [],
   "source": [
    "#Regression Example With Housing Data Set\n",
    "housing=pd.read_csv('housing.csv')\n",
    "housing=housing.fillna(0)\n",
    "hindependent=housing[['housing_median_age','total_rooms','total_bedrooms','population','households','median_income']]\n",
    "hdependent=housing[['median_house_value']]"
   ]
  },
  {
   "cell_type": "code",
   "execution_count": 3,
   "metadata": {},
   "outputs": [],
   "source": [
    "hX_train,hX_test,hy_train,hy_test=train_test_split(hindependent,hdependent,test_size=0.33)"
   ]
  },
  {
   "cell_type": "code",
   "execution_count": 4,
   "metadata": {},
   "outputs": [
    {
     "name": "stderr",
     "output_type": "stream",
     "text": [
      "<ipython-input-4-0948a9ca1213>:3: DataConversionWarning: A column-vector y was passed when a 1d array was expected. Please change the shape of y to (n_samples,), for example using ravel().\n",
      "  hran.fit(hX_train,hy_train)\n"
     ]
    },
    {
     "name": "stdout",
     "output_type": "stream",
     "text": [
      "0.6258165550863162\n"
     ]
    }
   ],
   "source": [
    "#Random Regressor\n",
    "hran=RandomForestRegressor(n_estimators=10,random_state=0)\n",
    "hran.fit(hX_train,hy_train)\n",
    "hy_pred4=hran.predict(hX_test)\n",
    "print(hran.score(hX_test,hy_test))"
   ]
  },
  {
   "cell_type": "code",
   "execution_count": 5,
   "metadata": {},
   "outputs": [],
   "source": [
    "#Classifier Example with Auto Insurance Data Set\n",
    "insurance=pd.read_csv('Auto_Insurance_Claims_Sample.csv')\n",
    "idependent=insurance[['Response']]\n",
    "iindependent=insurance[['Claim Amount','Coverage','Location Code','Monthly Premium Auto','Months Since Last Claim','Number of Open Complaints','Number of Policies','Policy Type','Policy','Claim Reason','Sales Channel','Total Claim Amount','Vehicle Class','Vehicle Size']]\n",
    "iindependent=pd.get_dummies(iindependent)\n",
    "idependent=pd.get_dummies(idependent)"
   ]
  },
  {
   "cell_type": "code",
   "execution_count": 6,
   "metadata": {},
   "outputs": [],
   "source": [
    "iX_train,iX_test,iy_train,iy_test=train_test_split(iindependent,idependent,test_size=0.33)"
   ]
  },
  {
   "cell_type": "code",
   "execution_count": 7,
   "metadata": {},
   "outputs": [
    {
     "name": "stdout",
     "output_type": "stream",
     "text": [
      "0.9781094527363184\n"
     ]
    }
   ],
   "source": [
    "#Random Classifier\n",
    "iran=RandomForestClassifier()\n",
    "iran.fit(iX_train,iy_train)\n",
    "i_pred=iran.predict(iX_test)\n",
    "print(iran.score(iX_test,iy_test))"
   ]
  }
 ],
 "metadata": {
  "kernelspec": {
   "display_name": "Python 3",
   "language": "python",
   "name": "python3"
  },
  "language_info": {
   "codemirror_mode": {
    "name": "ipython",
    "version": 3
   },
   "file_extension": ".py",
   "mimetype": "text/x-python",
   "name": "python",
   "nbconvert_exporter": "python",
   "pygments_lexer": "ipython3",
   "version": "3.8.5"
  }
 },
 "nbformat": 4,
 "nbformat_minor": 4
}
